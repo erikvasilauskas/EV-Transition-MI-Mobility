{
 "cells": [
  {
   "cell_type": "markdown",
   "id": "52fc5760",
   "metadata": {},
   "source": [
    "\n",
    "# Occupational Employment Change Tables (2024-2030)\n",
    "\n",
    "This notebook summarizes occupational employment change between 2024 and 2030 using the outputs from `scripts/occupation_forecasts_from_segment_totals.py`. We explore:\n",
    "\n",
    "- Segment-level employment change by methodology\n",
    "- Education-level employment change across all segments\n",
    "- Variation across methodologies to highlight areas of divergence\n"
   ]
  },
  {
   "cell_type": "code",
   "execution_count": null,
   "id": "540e74ae",
   "metadata": {},
   "outputs": [],
   "source": [
    "\n",
    "import pandas as pd\n",
    "import numpy as np\n",
    "from pathlib import Path\n",
    "from typing import List\n",
    "\n",
    "pd.set_option('display.max_rows', 50)\n",
    "pd.set_option('display.max_columns', None)\n",
    "pd.set_option('display.float_format', '{:,.2f}'.format)\n",
    "\n",
    "DATA_PATH = Path('..') / 'data' / 'processed' / 'mi_occ_segment_totals_2024_2034.csv'\n"
   ]
  },
  {
   "cell_type": "code",
   "execution_count": null,
   "id": "aafc8bf9",
   "metadata": {},
   "outputs": [],
   "source": [
    "\n",
    "# Load occupation forecasts covering 2024-2034\n",
    "forecasts = pd.read_csv(DATA_PATH)\n",
    "\n",
    "# Ensure methodology labels are consistent\n",
    "forecasts['methodology'] = forecasts['methodology'].astype(str)\n",
    "\n",
    "# Filter to the comparison years of interest\n",
    "comparison_years = [2024, 2030]\n",
    "comparison_df = forecasts[forecasts['year'].isin(comparison_years)].copy()\n",
    "\n",
    "print(f\"Records considered: {len(comparison_df):,}\")\n",
    "print(f\"Methodologies: {sorted(comparison_df['methodology'].unique())}\")\n"
   ]
  },
  {
   "cell_type": "code",
   "execution_count": null,
   "id": "3c7eac5e",
   "metadata": {},
   "outputs": [],
   "source": [
    "\n",
    "def summarize_change(df: pd.DataFrame, group_cols: List[str]) -> pd.DataFrame:\n",
    "    '''Aggregate employment in 2024 vs 2030 and compute change metrics.'''\n",
    "    base = (\n",
    "        df[df['year'] == 2024]\n",
    "        .groupby(group_cols + ['methodology'], as_index=False)['employment']\n",
    "        .sum()\n",
    "        .rename(columns={'employment': 'employment_2024'})\n",
    "    )\n",
    "\n",
    "    target = (\n",
    "        df[df['year'] == 2030]\n",
    "        .groupby(group_cols + ['methodology'], as_index=False)['employment']\n",
    "        .sum()\n",
    "        .rename(columns={'employment': 'employment_2030'})\n",
    "    )\n",
    "\n",
    "    summary = base.merge(target, on=group_cols + ['methodology'], how='outer')\n",
    "    summary[['employment_2024', 'employment_2030']] = summary[['employment_2024', 'employment_2030']].fillna(0)\n",
    "\n",
    "    summary['abs_change'] = summary['employment_2030'] - summary['employment_2024']\n",
    "    summary['pct_change'] = np.where(\n",
    "        summary['employment_2024'] > 0,\n",
    "        summary['abs_change'] / summary['employment_2024'] * 100,\n",
    "        np.nan,\n",
    "    )\n",
    "\n",
    "    return summary\n",
    "\n",
    "\n",
    "def compute_methodology_spread(summary: pd.DataFrame, key_cols: List[str]) -> pd.DataFrame:\n",
    "    '''Identify methodology spread in absolute change for each grouping.'''\n",
    "    def _spread(group: pd.DataFrame) -> pd.Series:\n",
    "        min_idx = group['abs_change'].idxmin()\n",
    "        max_idx = group['abs_change'].idxmax()\n",
    "        return pd.Series({\n",
    "            'method_min': group.loc[min_idx, 'methodology'],\n",
    "            'min_abs_change': group.loc[min_idx, 'abs_change'],\n",
    "            'method_max': group.loc[max_idx, 'methodology'],\n",
    "            'max_abs_change': group.loc[max_idx, 'abs_change'],\n",
    "            'spread_abs_change': group.loc[max_idx, 'abs_change'] - group.loc[min_idx, 'abs_change']\n",
    "        })\n",
    "\n",
    "    spread = summary.groupby(key_cols).apply(_spread).reset_index()\n",
    "    return spread\n"
   ]
  },
  {
   "cell_type": "markdown",
   "id": "f057565d",
   "metadata": {},
   "source": [
    "\n",
    "## Segment-Level Employment Change\n",
    "\n",
    "Aggregated employment change by supply segment and methodology.\n"
   ]
  },
  {
   "cell_type": "code",
   "execution_count": null,
   "id": "c0650485",
   "metadata": {},
   "outputs": [],
   "source": [
    "\n",
    "segment_cols = ['segment_id', 'segment_name']\n",
    "segment_summary = summarize_change(comparison_df, segment_cols)\n",
    "segment_summary.sort_values(['segment_id', 'methodology'], inplace=True)\n",
    "segment_summary.head()\n"
   ]
  },
  {
   "cell_type": "code",
   "execution_count": null,
   "id": "1cc1666e",
   "metadata": {},
   "outputs": [],
   "source": [
    "\n",
    "# Highlight absolute change by methodology for each segment (wide view)\n",
    "segment_abs_pivot = segment_summary.pivot(\n",
    "    index='segment_name', columns='methodology', values='abs_change'\n",
    ").sort_index()\n",
    "segment_abs_pivot\n"
   ]
  },
  {
   "cell_type": "code",
   "execution_count": null,
   "id": "6c5dbfc6",
   "metadata": {},
   "outputs": [],
   "source": [
    "\n",
    "# Methodology spread in absolute change for each segment\n",
    "segment_spread = compute_methodology_spread(segment_summary, ['segment_id', 'segment_name'])\n",
    "segment_spread.sort_values('spread_abs_change', ascending=False, inplace=True)\n",
    "segment_spread.head(15)\n"
   ]
  },
  {
   "cell_type": "markdown",
   "id": "c4123382",
   "metadata": {},
   "source": [
    "\n",
    "## Education-Level Employment Change (All Segments)\n",
    "\n",
    "Summaries aggregated across all segments by education grouping.\n"
   ]
  },
  {
   "cell_type": "code",
   "execution_count": null,
   "id": "7f61c122",
   "metadata": {},
   "outputs": [],
   "source": [
    "\n",
    "edu_cols = ['ep_edu_grouped']\n",
    "edu_summary = summarize_change(comparison_df, edu_cols)\n",
    "edu_summary.sort_values(['ep_edu_grouped', 'methodology'], inplace=True)\n",
    "edu_summary\n"
   ]
  },
  {
   "cell_type": "code",
   "execution_count": null,
   "id": "c3220db7",
   "metadata": {},
   "outputs": [],
   "source": [
    "\n",
    "# Pivot absolute change across methodologies for education groupings\n",
    "edu_abs_pivot = edu_summary.pivot(\n",
    "    index='ep_edu_grouped', columns='methodology', values='abs_change'\n",
    ").sort_index()\n",
    "edu_abs_pivot\n"
   ]
  },
  {
   "cell_type": "code",
   "execution_count": null,
   "id": "d06800a9",
   "metadata": {},
   "outputs": [],
   "source": [
    "\n",
    "# Spread across methodologies to show divergence by education grouping\n",
    "edu_spread = compute_methodology_spread(edu_summary, ['ep_edu_grouped'])\n",
    "edu_spread.sort_values('spread_abs_change', ascending=False, inplace=True)\n",
    "edu_spread\n"
   ]
  }
 ],
 "metadata": {},
 "nbformat": 4,
 "nbformat_minor": 5
}
