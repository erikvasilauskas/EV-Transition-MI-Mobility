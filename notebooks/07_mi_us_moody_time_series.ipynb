{
 "cells": [
  {
   "cell_type": "code",
   "execution_count": 2,
   "id": "b2636062",
   "metadata": {},
   "outputs": [
    {
     "name": "stdout",
     "output_type": "stream",
     "text": [
      "Working dir -> c:\\Users\\vasilauskas\\GitHub\\EV-Transition\n",
      "Expecting CSVs in -> c:\\Users\\vasilauskas\\GitHub\\EV-Transition\\data\\interim\n"
     ]
    },
    {
     "name": "stderr",
     "output_type": "stream",
     "text": [
      "C:\\Users\\vasilauskas\\AppData\\Local\\Temp\\ipykernel_10064\\1534757231.py:132: FutureWarning: The default of observed=False is deprecated and will be changed to True in a future version of pandas. Pass observed=False to retain current behavior or observed=True to adopt the future default and silence this warning.\n",
      "  for name, g in sub.groupby(group_col, sort=False):\n"
     ]
    },
    {
     "name": "stdout",
     "output_type": "stream",
     "text": [
      "Saved: c:\\Users\\vasilauskas\\GitHub\\EV-Transition\\reports\\figures\\moodys_mi_stage_employment_1970_2055.png\n"
     ]
    },
    {
     "name": "stderr",
     "output_type": "stream",
     "text": [
      "C:\\Users\\vasilauskas\\AppData\\Local\\Temp\\ipykernel_10064\\1534757231.py:132: FutureWarning: The default of observed=False is deprecated and will be changed to True in a future version of pandas. Pass observed=False to retain current behavior or observed=True to adopt the future default and silence this warning.\n",
      "  for name, g in sub.groupby(group_col, sort=False):\n"
     ]
    },
    {
     "name": "stdout",
     "output_type": "stream",
     "text": [
      "Saved: c:\\Users\\vasilauskas\\GitHub\\EV-Transition\\reports\\figures\\moodys_mi_stage_employment_1990_2030.png\n"
     ]
    },
    {
     "name": "stderr",
     "output_type": "stream",
     "text": [
      "C:\\Users\\vasilauskas\\AppData\\Local\\Temp\\ipykernel_10064\\1534757231.py:132: FutureWarning: The default of observed=False is deprecated and will be changed to True in a future version of pandas. Pass observed=False to retain current behavior or observed=True to adopt the future default and silence this warning.\n",
      "  for name, g in sub.groupby(group_col, sort=False):\n"
     ]
    },
    {
     "name": "stdout",
     "output_type": "stream",
     "text": [
      "Saved: c:\\Users\\vasilauskas\\GitHub\\EV-Transition\\reports\\figures\\moodys_mi_stage_gdp_1970_2055.png\n"
     ]
    },
    {
     "name": "stderr",
     "output_type": "stream",
     "text": [
      "C:\\Users\\vasilauskas\\AppData\\Local\\Temp\\ipykernel_10064\\1534757231.py:132: FutureWarning: The default of observed=False is deprecated and will be changed to True in a future version of pandas. Pass observed=False to retain current behavior or observed=True to adopt the future default and silence this warning.\n",
      "  for name, g in sub.groupby(group_col, sort=False):\n"
     ]
    },
    {
     "name": "stdout",
     "output_type": "stream",
     "text": [
      "Saved: c:\\Users\\vasilauskas\\GitHub\\EV-Transition\\reports\\figures\\moodys_mi_stage_gdp_1990_2030.png\n",
      "Saved: c:\\Users\\vasilauskas\\GitHub\\EV-Transition\\reports\\figures\\moodys_mi_segment_employment_1970_2055.png\n",
      "Saved: c:\\Users\\vasilauskas\\GitHub\\EV-Transition\\reports\\figures\\moodys_mi_segment_employment_1990_2030.png\n",
      "Saved: c:\\Users\\vasilauskas\\GitHub\\EV-Transition\\reports\\figures\\moodys_mi_segment_gdp_1970_2055.png\n",
      "Saved: c:\\Users\\vasilauskas\\GitHub\\EV-Transition\\reports\\figures\\moodys_mi_segment_gdp_1990_2030.png\n"
     ]
    },
    {
     "name": "stderr",
     "output_type": "stream",
     "text": [
      "C:\\Users\\vasilauskas\\AppData\\Local\\Temp\\ipykernel_10064\\1534757231.py:132: FutureWarning: The default of observed=False is deprecated and will be changed to True in a future version of pandas. Pass observed=False to retain current behavior or observed=True to adopt the future default and silence this warning.\n",
      "  for name, g in sub.groupby(group_col, sort=False):\n"
     ]
    },
    {
     "name": "stdout",
     "output_type": "stream",
     "text": [
      "Saved: c:\\Users\\vasilauskas\\GitHub\\EV-Transition\\reports\\figures\\moodys_us_stage_employment_1970_2055.png\n"
     ]
    },
    {
     "name": "stderr",
     "output_type": "stream",
     "text": [
      "C:\\Users\\vasilauskas\\AppData\\Local\\Temp\\ipykernel_10064\\1534757231.py:132: FutureWarning: The default of observed=False is deprecated and will be changed to True in a future version of pandas. Pass observed=False to retain current behavior or observed=True to adopt the future default and silence this warning.\n",
      "  for name, g in sub.groupby(group_col, sort=False):\n"
     ]
    },
    {
     "name": "stdout",
     "output_type": "stream",
     "text": [
      "Saved: c:\\Users\\vasilauskas\\GitHub\\EV-Transition\\reports\\figures\\moodys_us_stage_employment_1990_2030.png\n"
     ]
    },
    {
     "name": "stderr",
     "output_type": "stream",
     "text": [
      "C:\\Users\\vasilauskas\\AppData\\Local\\Temp\\ipykernel_10064\\1534757231.py:132: FutureWarning: The default of observed=False is deprecated and will be changed to True in a future version of pandas. Pass observed=False to retain current behavior or observed=True to adopt the future default and silence this warning.\n",
      "  for name, g in sub.groupby(group_col, sort=False):\n"
     ]
    },
    {
     "name": "stdout",
     "output_type": "stream",
     "text": [
      "Saved: c:\\Users\\vasilauskas\\GitHub\\EV-Transition\\reports\\figures\\moodys_us_stage_gdp_1970_2055.png\n"
     ]
    },
    {
     "name": "stderr",
     "output_type": "stream",
     "text": [
      "C:\\Users\\vasilauskas\\AppData\\Local\\Temp\\ipykernel_10064\\1534757231.py:132: FutureWarning: The default of observed=False is deprecated and will be changed to True in a future version of pandas. Pass observed=False to retain current behavior or observed=True to adopt the future default and silence this warning.\n",
      "  for name, g in sub.groupby(group_col, sort=False):\n"
     ]
    },
    {
     "name": "stdout",
     "output_type": "stream",
     "text": [
      "Saved: c:\\Users\\vasilauskas\\GitHub\\EV-Transition\\reports\\figures\\moodys_us_stage_gdp_1990_2030.png\n",
      "Saved: c:\\Users\\vasilauskas\\GitHub\\EV-Transition\\reports\\figures\\moodys_us_segment_employment_1970_2055.png\n",
      "Saved: c:\\Users\\vasilauskas\\GitHub\\EV-Transition\\reports\\figures\\moodys_us_segment_employment_1990_2030.png\n",
      "Saved: c:\\Users\\vasilauskas\\GitHub\\EV-Transition\\reports\\figures\\moodys_us_segment_gdp_1970_2055.png\n",
      "Saved: c:\\Users\\vasilauskas\\GitHub\\EV-Transition\\reports\\figures\\moodys_us_segment_gdp_1990_2030.png\n",
      "Done.\n"
     ]
    }
   ],
   "source": [
    "# Moody's Employment & Output Time Series (1970–2055)\n",
    "#\n",
    "# Plots Michigan & US time series by Stage and Segment for Employment and Output (GDP).\n",
    "# Source CSVs are generated by scripts/process_moodys_timeseries.py into data/interim/.\n",
    "\n",
    "from pathlib import Path\n",
    "import os\n",
    "import pandas as pd\n",
    "import matplotlib.pyplot as plt\n",
    "\n",
    "# --- Optional nicer defaults if seaborn is available ---\n",
    "try:\n",
    "    import seaborn as sns\n",
    "    sns.set_theme(context=\"talk\", style=\"whitegrid\")\n",
    "except Exception:\n",
    "    pass\n",
    "\n",
    "# ---------------------------\n",
    "# Repo paths & figure folder\n",
    "# ---------------------------\n",
    "def find_repo_root(markers=(\"data\", \"scripts\")) -> Path:\n",
    "    here = Path.cwd()\n",
    "    for p in (here, *here.parents):\n",
    "        if all((p / m).exists() for m in markers):\n",
    "            return p\n",
    "    return here\n",
    "\n",
    "REPO_ROOT = find_repo_root()\n",
    "os.chdir(REPO_ROOT)\n",
    "print(\"Working dir ->\", Path.cwd())\n",
    "\n",
    "DATA_INTERIM = REPO_ROOT / \"data\" / \"interim\"\n",
    "FIG_DIR = REPO_ROOT / \"reports\" / \"figures\"\n",
    "FIG_DIR.mkdir(parents=True, exist_ok=True)\n",
    "print(\"Expecting CSVs in ->\", DATA_INTERIM)\n",
    "\n",
    "# ---------------------------\n",
    "# Files from Moody's pipeline\n",
    "# ---------------------------\n",
    "FILES = {\n",
    "    \"mi_segments\": DATA_INTERIM / \"moodys_michigan_segments_timeseries.csv\",\n",
    "    \"us_segments\": DATA_INTERIM / \"moodys_us_segments_timeseries.csv\",\n",
    "    \"mi_stages\":   DATA_INTERIM / \"moodys_michigan_stages_timeseries.csv\",\n",
    "    \"us_stages\":   DATA_INTERIM / \"moodys_us_stages_timeseries.csv\",\n",
    "}\n",
    "\n",
    "# ---------------------------\n",
    "# Helpers\n",
    "# ---------------------------\n",
    "def require_exists(p: Path, label: str):\n",
    "    if not p.exists():\n",
    "        raise FileNotFoundError(\n",
    "            f\"Missing {label} at {p}. \"\n",
    "            \"Generate it by running scripts/process_moodys_timeseries.py\"\n",
    "        )\n",
    "\n",
    "for k, p in FILES.items():\n",
    "    require_exists(p, k)\n",
    "\n",
    "def load_csv(path: Path) -> pd.DataFrame:\n",
    "    df = pd.read_csv(path)\n",
    "    # Normalize expected columns across segment/stage files\n",
    "    if \"segment_label\" in df.columns and \"segment_name\" not in df.columns:\n",
    "        df = df.rename(columns={\"segment_label\": \"segment_name\"})\n",
    "    # Ensure required value columns exist\n",
    "    for col in [\"employment\", \"gdp\"]:\n",
    "        if col not in df.columns:\n",
    "            df[col] = pd.NA\n",
    "        df[col] = pd.to_numeric(df[col], errors=\"coerce\")\n",
    "    # Year as int\n",
    "    df[\"year\"] = pd.to_numeric(df[\"year\"], errors=\"coerce\").astype(\"Int64\")\n",
    "    return df\n",
    "\n",
    "mi_segments = load_csv(FILES[\"mi_segments\"])\n",
    "us_segments = load_csv(FILES[\"us_segments\"])\n",
    "mi_stages   = load_csv(FILES[\"mi_stages\"])\n",
    "us_stages   = load_csv(FILES[\"us_stages\"])\n",
    "\n",
    "# Validate essentials\n",
    "def validate_columns(df: pd.DataFrame, required: list, df_name: str):\n",
    "    missing = [c for c in required if c not in df.columns]\n",
    "    if missing:\n",
    "        raise ValueError(\n",
    "            f\"{df_name} is missing required column(s): {missing}\\n\"\n",
    "            f\"Columns found: {sorted(df.columns.tolist())}\"\n",
    "        )\n",
    "\n",
    "validate_columns(mi_segments, [\"segment_id\", \"segment_name\", \"year\", \"employment\", \"gdp\"], \"mi_segments\")\n",
    "validate_columns(us_segments, [\"segment_id\", \"segment_name\", \"year\", \"employment\", \"gdp\"], \"us_segments\")\n",
    "validate_columns(mi_stages,   [\"stage\", \"year\", \"employment\", \"gdp\"], \"mi_stages\")\n",
    "validate_columns(us_stages,   [\"stage\", \"year\", \"employment\", \"gdp\"], \"us_stages\")\n",
    "\n",
    "# Clean\n",
    "def clean_years(df, min_y=1970, max_y=2055):\n",
    "    df = df.dropna(subset=[\"year\"]).copy()\n",
    "    df[\"year\"] = df[\"year\"].astype(int)\n",
    "    return df[(df[\"year\"] >= min_y) & (df[\"year\"] <= max_y)].copy()\n",
    "\n",
    "mi_segments = clean_years(mi_segments)\n",
    "us_segments = clean_years(us_segments)\n",
    "mi_stages   = clean_years(mi_stages)\n",
    "us_stages   = clean_years(us_stages)\n",
    "\n",
    "# Order stages if present\n",
    "stage_order = [\"Upstream\", \"OEM\", \"Downstream\"]\n",
    "for d in (mi_stages, us_stages):\n",
    "    if \"stage\" in d.columns:\n",
    "        d[\"stage\"] = pd.Categorical(d[\"stage\"], categories=stage_order, ordered=True)\n",
    "        d.sort_values([\"stage\", \"year\"], inplace=True)\n",
    "\n",
    "# ---------------------------\n",
    "# Plotting helpers\n",
    "# ---------------------------\n",
    "def plot_timeseries(\n",
    "    df: pd.DataFrame,\n",
    "    group_col: str,\n",
    "    metric_col: str,\n",
    "    title: str,\n",
    "    outfile: Path,\n",
    "    yr_min: int = 1970,\n",
    "    yr_max: int = 2055,\n",
    "    legend_title: str | None = None,\n",
    "    figsize=(14, 8),\n",
    "):\n",
    "    sub = df[(df[\"year\"] >= yr_min) & (df[\"year\"] <= yr_max)].copy()\n",
    "    sub = sub.dropna(subset=[metric_col])\n",
    "    if sub.empty:\n",
    "        print(f\"[skip] No data for {title} in {yr_min}-{yr_max}\")\n",
    "        return\n",
    "\n",
    "    fig, ax = plt.subplots(figsize=figsize)\n",
    "    for name, g in sub.groupby(group_col, sort=False):\n",
    "        ax.plot(g[\"year\"], g[metric_col], label=str(name))\n",
    "\n",
    "    ax.set_xlabel(\"Year\")\n",
    "    ax.set_ylabel(metric_col.capitalize())  # simple label; adjust if you prefer units\n",
    "    ax.set_title(title)\n",
    "    if legend_title is None:\n",
    "        legend_title = group_col.replace(\"_\", \" \").title()\n",
    "    ax.legend(title=legend_title, bbox_to_anchor=(1.02, 1), loc=\"upper left\")\n",
    "    fig.tight_layout()\n",
    "    fig.savefig(outfile, dpi=300, bbox_inches=\"tight\")\n",
    "    plt.close(fig)\n",
    "    print(f\"Saved: {outfile}\")\n",
    "\n",
    "def batch_plots(\n",
    "    df: pd.DataFrame,\n",
    "    group_col: str,\n",
    "    geo_label: str,\n",
    "    base_filename_prefix: str,\n",
    "):\n",
    "    \"\"\"\n",
    "    Emits four plots for this dataframe:\n",
    "      - Employment (1970–2055)\n",
    "      - Employment (1990–2030)\n",
    "      - Output/GDP (1970–2055)\n",
    "      - Output/GDP (1990–2030)\n",
    "    \"\"\"\n",
    "    items = [\n",
    "        (\"employment\", (1970, 2055), f\"{geo_label} {group_col.replace('_',' ').title()} – Employment (1970–2055)\"),\n",
    "        (\"employment\", (1990, 2030), f\"{geo_label} {group_col.replace('_',' ').title()} – Employment (1990–2030)\"),\n",
    "        (\"gdp\",        (1970, 2055), f\"{geo_label} {group_col.replace('_',' ').title()} – Output (1970–2055)\"),\n",
    "        (\"gdp\",        (1990, 2030), f\"{geo_label} {group_col.replace('_',' ').title()} – Output (1990–2030)\"),\n",
    "    ]\n",
    "    for metric, (ymin, ymax), title in items:\n",
    "        suffix = f\"{metric}_{ymin}_{ymax}.png\"\n",
    "        outfile = FIG_DIR / f\"{base_filename_prefix}_{suffix}\"\n",
    "        legend_title = \"Stage\" if group_col == \"stage\" else \"Segment\"\n",
    "        plot_timeseries(\n",
    "            df=df,\n",
    "            group_col=group_col,\n",
    "            metric_col=metric,\n",
    "            title=title,\n",
    "            outfile=outfile,\n",
    "            yr_min=ymin,\n",
    "            yr_max=ymax,\n",
    "            legend_title=legend_title,\n",
    "            figsize=(12, 6) if group_col == \"stage\" else (14, 8),\n",
    "        )\n",
    "\n",
    "# ---------------------------\n",
    "# Run all plot batches\n",
    "# ---------------------------\n",
    "# Michigan\n",
    "batch_plots(mi_stages,   group_col=\"stage\",        geo_label=\"Michigan\", base_filename_prefix=\"moodys_mi_stage\")\n",
    "batch_plots(mi_segments, group_col=\"segment_name\", geo_label=\"Michigan\", base_filename_prefix=\"moodys_mi_segment\")\n",
    "\n",
    "# United States\n",
    "batch_plots(us_stages,   group_col=\"stage\",        geo_label=\"United States\", base_filename_prefix=\"moodys_us_stage\")\n",
    "batch_plots(us_segments, group_col=\"segment_name\", geo_label=\"United States\", base_filename_prefix=\"moodys_us_segment\")\n",
    "\n",
    "print(\"Done.\")\n"
   ]
  }
 ],
 "metadata": {
  "kernelspec": {
   "display_name": "ds4b_301p",
   "language": "python",
   "name": "python3"
  },
  "language_info": {
   "codemirror_mode": {
    "name": "ipython",
    "version": 3
   },
   "file_extension": ".py",
   "mimetype": "text/x-python",
   "name": "python",
   "nbconvert_exporter": "python",
   "pygments_lexer": "ipython3",
   "version": "3.10.16"
  }
 },
 "nbformat": 4,
 "nbformat_minor": 5
}
