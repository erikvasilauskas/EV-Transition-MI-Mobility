{
 "cells": [
  {
   "cell_type": "markdown",
   "id": "0333fc47",
   "metadata": {},
   "source": [
    "# MCDA Staffing Pattern Changes (2021\u00132024)\n",
    "\n",
    "This notebook reviews Michigan Center for Data and Analytics (MCDA) staffing patterns aggregated to the ten supply-chain segments. It highlights employment shifts for major and detailed occupations between 2021 and 2024 and compares educational requirements using employment projections metadata (Table 1.2).\n"
   ]
  },
  {
   "cell_type": "code",
   "execution_count": null,
   "id": "120017e3",
   "metadata": {},
   "outputs": [],
   "source": [
    "from pathlib import Path\n",
    "import pandas as pd\n",
    "import seaborn as sns\n",
    "import matplotlib.pyplot as plt\n",
    "\n",
    "sns.set_theme(context='talk', style='whitegrid')\n",
    "project_root = Path.cwd()\n",
    "if not (project_root / 'data').exists():\n",
    "    project_root = project_root.parent\n",
    "DATA_PROCESSED = project_root / 'data' / 'processed'\n",
    "DATA_INTERIM = project_root / 'data' / 'interim'\n",
    "FIG_DIR = project_root / 'reports' / 'figures'\n",
    "FIG_DIR.mkdir(parents=True, exist_ok=True)\n"
   ]
  },
  {
   "cell_type": "code",
   "execution_count": null,
   "id": "8f113cdc",
   "metadata": {},
   "outputs": [],
   "source": [
    "major = pd.read_csv(DATA_PROCESSED / 'mcda_staffing_major_2021_2024.csv')\n",
    "detailed = pd.read_csv(DATA_PROCESSED / 'mcda_staffing_detailed_2021_2024.csv')\n",
    "edu_summary = pd.read_csv(DATA_PROCESSED / 'mcda_staffing_education_summary.csv')\n",
    "\n",
    "major.head()\n"
   ]
  },
  {
   "cell_type": "markdown",
   "id": "050b3dde",
   "metadata": {},
   "source": [
    "## Aggregated Change by Major Occupation\n",
    "\n",
    "The table below ranks major occupation families by total employment change across all segments. Values reflect the sum of segment-level changes.\n"
   ]
  },
  {
   "cell_type": "code",
   "execution_count": null,
   "id": "ec527e75",
   "metadata": {},
   "outputs": [],
   "source": [
    "major_totals = (major\n",
    "                 .groupby(['occcd', 'soctitle'], as_index=False)\n",
    "                 .agg({\n",
    "                     'empl_2021': 'sum',\n",
    "                     'empl_2024': 'sum',\n",
    "                     'level_change_2021_2024': 'sum'\n",
    "                 })\n",
    "                )\n",
    "major_totals['pct_change_2021_2024'] = ((major_totals['empl_2024'] / major_totals['empl_2021']) - 1) * 100\n",
    "major_top = major_totals.sort_values('level_change_2021_2024', ascending=False).head(10)\n",
    "major_bottom = major_totals.sort_values('level_change_2021_2024').head(10)\n",
    "major_top[['occcd', 'soctitle', 'level_change_2021_2024']]\n"
   ]
  },
  {
   "cell_type": "code",
   "execution_count": null,
   "id": "fb4f4016",
   "metadata": {},
   "outputs": [],
   "source": [
    "fig, ax = plt.subplots(figsize=(12, 6))\n",
    "sns.barplot(data=major_top, x='level_change_2021_2024', y='soctitle', ax=ax, palette='crest')\n",
    "ax.set_xlabel('Employment Change (2021-2024)')\n",
    "ax.set_ylabel('Major Occupation')\n",
    "ax.set_title('Top Employment Gains by Major Occupation (All Segments)')\n",
    "fig.tight_layout()\n",
    "fig.savefig(FIG_DIR / 'mcda_major_top_changes.png', dpi=300, bbox_inches='tight')\n",
    "plt.show()\n"
   ]
  },
  {
   "cell_type": "markdown",
   "id": "0c4a7627",
   "metadata": {},
   "source": [
    "### Largest Declines\n",
    "\n",
    "The next table lists major occupations with the largest declines in employment.\n"
   ]
  },
  {
   "cell_type": "code",
   "execution_count": null,
   "id": "963665be",
   "metadata": {},
   "outputs": [],
   "source": [
    "major_bottom[['occcd', 'soctitle', 'level_change_2021_2024']]\n"
   ]
  },
  {
   "cell_type": "code",
   "execution_count": null,
   "id": "3f0c15b9",
   "metadata": {},
   "outputs": [],
   "source": [
    "fig, ax = plt.subplots(figsize=(12, 6))\n",
    "sns.barplot(data=major_bottom.sort_values('level_change_2021_2024'), x='level_change_2021_2024', y='soctitle', ax=ax, palette='flare')\n",
    "ax.set_xlabel('Employment Change (2021-2024)')\n",
    "ax.set_ylabel('Major Occupation')\n",
    "ax.set_title('Largest Employment Declines by Major Occupation (All Segments)')\n",
    "fig.tight_layout()\n",
    "fig.savefig(FIG_DIR / 'mcda_major_bottom_changes.png', dpi=300, bbox_inches='tight')\n",
    "plt.show()\n"
   ]
  },
  {
   "cell_type": "markdown",
   "id": "6c82e97a",
   "metadata": {},
   "source": [
    "## Detailed Occupations: Top Movers\n",
    "\n",
    "Detailed occupations drive much of the segment-level dynamics. The following chart shows the top 15 detailed occupations by employment growth across all segments.\n"
   ]
  },
  {
   "cell_type": "code",
   "execution_count": null,
   "id": "1ef09b91",
   "metadata": {},
   "outputs": [],
   "source": [
    "detailed_totals = (detailed\n",
    "                    .groupby(['occcd', 'soctitle'], as_index=False)\n",
    "                    .agg({\n",
    "                        'empl_2021': 'sum',\n",
    "                        'empl_2024': 'sum',\n",
    "                        'level_change_2021_2024': 'sum'\n",
    "                    })\n",
    "                   )\n",
    "detailed_totals['pct_change_2021_2024'] = ((detailed_totals['empl_2024'] / detailed_totals['empl_2021']) - 1) * 100\n",
    "top15_detailed = detailed_totals.sort_values('level_change_2021_2024', ascending=False).head(15)\n",
    "fig, ax = plt.subplots(figsize=(12, 8))\n",
    "sns.barplot(data=top15_detailed, x='level_change_2021_2024', y='soctitle', ax=ax, palette='viridis')\n",
    "ax.set_xlabel('Employment Change (2021-2024)')\n",
    "ax.set_ylabel('Detailed Occupation')\n",
    "ax.set_title('Top Detailed Occupation Gains (All Segments)')\n",
    "fig.tight_layout()\n",
    "fig.savefig(FIG_DIR / 'mcda_detailed_top_changes.png', dpi=300, bbox_inches='tight')\n",
    "plt.show()\n"
   ]
  },
  {
   "cell_type": "markdown",
   "id": "553efa4c",
   "metadata": {},
   "source": [
    "## Education Composition (Detailed Occupations)\n",
    "\n",
    "Using the Table 1.2 projections metadata, detailed occupations are mapped to three education groups. The chart below compares the 2021 vs. 2024 mix for each segment.\n"
   ]
  },
  {
   "cell_type": "code",
   "execution_count": null,
   "id": "9349736e",
   "metadata": {},
   "outputs": [],
   "source": [
    "edu_segments = edu_summary[edu_summary['segment'] != 'All Segments Combined'].copy()\n",
    "edu_long = edu_segments.melt(id_vars=['segment', 'edu_group'], value_vars=['share_2021', 'share_2024'],\n",
    "                            var_name='year', value_name='share')\n",
    "edu_long['year'] = edu_long['year'].str.extract('(\\d{4})').astype('Int64')\n",
    "edu_long = edu_long.dropna(subset=['year'])\n",
    "fig, ax = plt.subplots(figsize=(12, 6))\n",
    "sns.barplot(data=edu_long, x='segment', y='share', hue='edu_group', ax=ax)\n",
    "ax.set_ylabel('Share of Detailed Employment')\n",
    "ax.set_xlabel('Segment')\n",
    "ax.set_title('Detailed Occupation Mix by Education Requirement')\n",
    "ax.tick_params(axis='x', rotation=45)\n",
    "for label in ax.get_xticklabels():\n",
    "    label.set_horizontalalignment('right')\n",
    "fig.tight_layout()\n",
    "fig.savefig(FIG_DIR / 'mcda_detailed_education_mix.png', dpi=300, bbox_inches='tight')\n",
    "plt.show()\n"
   ]
  },
  {
   "cell_type": "markdown",
   "id": "91cb53c8",
   "metadata": {},
   "source": [
    "## Notes\n",
    "\n",
    "- Processed inputs generated by scripts/process_mcda_staffing.py.\n",
    "- Figures are exported to \n",
    "eports/figures/ for use in presentations or dashboards.\n",
    "- Update raw staffing data or employment projections and rerun the processing script before refreshing this notebook.\n"
   ]
  }
 ],
 "metadata": {},
 "nbformat": 4,
 "nbformat_minor": 5
}
